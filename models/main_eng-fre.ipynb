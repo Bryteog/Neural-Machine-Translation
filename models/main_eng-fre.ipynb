{
 "cells": [
  {
   "cell_type": "code",
   "execution_count": 1,
   "metadata": {},
   "outputs": [],
   "source": [
    "import os\n",
    "import math\n",
    "import numpy as np\n",
    "import pandas as pd\n",
    "from typing import Iterable, List\n",
    "import matplotlib.pyplot as plt\n",
    "from tqdm.auto import tqdm\n",
    "from sklearn.model_selection import train_test_split\n",
    "import torch\n",
    "from torch import Tensor\n",
    "import torch.nn as nn\n",
    "import torch.nn.functional as F\n",
    "from torch.nn import Transformer\n",
    "from torchtext.data.utils import get_tokenizer\n",
    "from torchtext.vocab import build_vocab_from_iterator\n",
    "from torch.nn.utils.rnn import pad_sequence\n",
    "from torch.utils.data import DataLoader, Dataset\n",
    "from timeit import default_timer as timer\n",
    "from Constants import *"
   ]
  },
  {
   "cell_type": "code",
   "execution_count": 2,
   "metadata": {},
   "outputs": [],
   "source": [
    "np.random.seed(SEED)\n",
    "torch.manual_seed(SEED)\n",
    "torch.cuda.manual_seed(SEED)\n",
    "torch.backends.cudnn.deterministic = True\n",
    "torch.backends.cudnn.benchmark = True"
   ]
  },
  {
   "cell_type": "code",
   "execution_count": 3,
   "metadata": {},
   "outputs": [],
   "source": [
    "CONTEXT_LANGUAGE = 'en'\n",
    "TARGET_LANGUAGE = 'fr'\n",
    "\n",
    "token_transform = {}\n",
    "vocab_transform = {}"
   ]
  },
  {
   "cell_type": "code",
   "execution_count": 4,
   "metadata": {},
   "outputs": [],
   "source": [
    "token_transform[CONTEXT_LANGUAGE] = get_tokenizer('spacy', language = 'en_core_web_sm')\n",
    "token_transform[TARGET_LANGUAGE] = get_tokenizer('spacy', language = 'fr_core_news_sm')"
   ]
  },
  {
   "cell_type": "code",
   "execution_count": 5,
   "metadata": {},
   "outputs": [
    {
     "data": {
      "text/html": [
       "<div>\n",
       "<style scoped>\n",
       "    .dataframe tbody tr th:only-of-type {\n",
       "        vertical-align: middle;\n",
       "    }\n",
       "\n",
       "    .dataframe tbody tr th {\n",
       "        vertical-align: top;\n",
       "    }\n",
       "\n",
       "    .dataframe thead th {\n",
       "        text-align: right;\n",
       "    }\n",
       "</style>\n",
       "<table border=\"1\" class=\"dataframe\">\n",
       "  <thead>\n",
       "    <tr style=\"text-align: right;\">\n",
       "      <th></th>\n",
       "      <th>English words/sentences</th>\n",
       "      <th>French words/sentences</th>\n",
       "    </tr>\n",
       "  </thead>\n",
       "  <tbody>\n",
       "    <tr>\n",
       "      <th>0</th>\n",
       "      <td>Hi.</td>\n",
       "      <td>Salut!</td>\n",
       "    </tr>\n",
       "    <tr>\n",
       "      <th>1</th>\n",
       "      <td>Run!</td>\n",
       "      <td>Cours !</td>\n",
       "    </tr>\n",
       "    <tr>\n",
       "      <th>2</th>\n",
       "      <td>Run!</td>\n",
       "      <td>Courez !</td>\n",
       "    </tr>\n",
       "    <tr>\n",
       "      <th>3</th>\n",
       "      <td>Who?</td>\n",
       "      <td>Qui ?</td>\n",
       "    </tr>\n",
       "    <tr>\n",
       "      <th>4</th>\n",
       "      <td>Wow!</td>\n",
       "      <td>Ça alors !</td>\n",
       "    </tr>\n",
       "  </tbody>\n",
       "</table>\n",
       "</div>"
      ],
      "text/plain": [
       "  English words/sentences French words/sentences\n",
       "0                     Hi.                 Salut!\n",
       "1                    Run!                Cours !\n",
       "2                    Run!               Courez !\n",
       "3                    Who?                  Qui ?\n",
       "4                    Wow!             Ça alors !"
      ]
     },
     "execution_count": 5,
     "metadata": {},
     "output_type": "execute_result"
    }
   ],
   "source": [
    "data.head()"
   ]
  },
  {
   "cell_type": "code",
   "execution_count": 6,
   "metadata": {},
   "outputs": [],
   "source": [
    "training_set, testing_set = train_test_split(data, test_size = 0.2)"
   ]
  },
  {
   "cell_type": "code",
   "execution_count": 38,
   "metadata": {},
   "outputs": [],
   "source": [
    "# Custom Dataset_Loader\n",
    "\n",
    "class Dataset_Loader(Dataset):\n",
    "    def __init__(self, data):\n",
    "        self.data = data\n",
    "        \n",
    "    def __len__(self):\n",
    "        return len(self.data)\n",
    "    \n",
    "    def __getitem__(self, idx):\n",
    "        return(\n",
    "            self.data[\"English words/sentences\"].iloc[idx],\n",
    "            self.data[\"French words/sentences\"].iloc[idx]\n",
    "        )"
   ]
  },
  {
   "cell_type": "code",
   "execution_count": 39,
   "metadata": {},
   "outputs": [
    {
     "name": "stdout",
     "output_type": "stream",
     "text": [
      "('He has no real friends.', \"Il n'a aucun véritable ami.\")\n"
     ]
    }
   ],
   "source": [
    "train_set = Dataset_Loader(training_set)\n",
    "validation_set = Dataset_Loader(testing_set)\n",
    "\n",
    "iterator = iter(train_set)\n",
    "print(next(iterator))"
   ]
  },
  {
   "cell_type": "code",
   "execution_count": 40,
   "metadata": {},
   "outputs": [],
   "source": [
    "# Generating tokens\n",
    "\n",
    "def get_tokens(data_iter: Iterable, language: str) -> List[str]:\n",
    "    language_index = {CONTEXT_LANGUAGE: 0, TARGET_LANGUAGE: 1}\n",
    "    \n",
    "    for text_sample in data_iter:\n",
    "        yield token_transform[language](text_sample[language_index[language]])\n",
    "        \n",
    "# Sentence tokens\n",
    "UNKNOWN_INDEX, PAD_INDEX, START_INDEX, END_INDEX = 0, 1, 2, 3\n",
    "standin_symbols = ['<unk>', '<pad>', '<bos>', '<eos>']\n",
    "\n",
    "for line in [CONTEXT_LANGUAGE, TARGET_LANGUAGE]:\n",
    "    vocab_transform[line] = build_vocab_from_iterator(get_tokens(train_set, line),\n",
    "                                                      min_freq = 1,\n",
    "                                                      specials = standin_symbols,\n",
    "                                                      special_first = True,)\n",
    "    \n",
    "# Unkown_index as default index\n",
    "for line in [CONTEXT_LANGUAGE, TARGET_LANGUAGE]:\n",
    "    vocab_transform[line].set_default_index(UNKNOWN_INDEX)"
   ]
  },
  {
   "cell_type": "code",
   "execution_count": 41,
   "metadata": {},
   "outputs": [],
   "source": [
    "def sequential_transforms(*transforms):\n",
    "    def func(text_input):\n",
    "        for transform in transforms:\n",
    "            text_input = transform(text_input)\n",
    "        \n",
    "        return text_input\n",
    "    return func\n",
    "\n",
    "def tensor_transform(token_ids: List[int]):\n",
    "    return torch.cat((torch.tensor([START_INDEX]),\n",
    "                      torch.tensor(token_ids),\n",
    "                      torch.tensor([END_INDEX])))\n",
    "\n",
    "\n",
    "# Convert strings to tensor\n",
    "text_transform = {}\n",
    "for line in [CONTEXT_LANGUAGE, TARGET_LANGUAGE]:\n",
    "    text_transform[line] = sequential_transforms(token_transform[line],\n",
    "                                                 vocab_transform[line],\n",
    "                                                 tensor_transform)\n",
    "    \n",
    "    \n",
    "# Getting tokenized context and target batches\n",
    "def collate_fn(batch):\n",
    "    context_batch, target_batch = [], []\n",
    "    for context_sample, target_sample in batch:\n",
    "        context_batch.append(text_transform[CONTEXT_LANGUAGE](context_sample.rstrip(\"\\n\")))\n",
    "        target_batch.append(text_transform[TARGET_LANGUAGE](target_sample.rstrip(\"\\n\")))\n",
    "        \n",
    "    context_batch = pad_sequence(context_batch, padding_value = PAD_INDEX, batch_first = True)\n",
    "    target_batch  = pad_sequence(target_batch,  padding_value = PAD_INDEX, batch_first = True)\n",
    "    \n",
    "    return context_batch, target_batch"
   ]
  },
  {
   "cell_type": "code",
   "execution_count": 42,
   "metadata": {},
   "outputs": [],
   "source": [
    "CONTEXT_VOCAB_SIZE = len(vocab_transform[CONTEXT_LANGUAGE])\n",
    "TARGET_VOCAB_SIZE = len(vocab_transform[TARGET_LANGUAGE])\n",
    "DEVICE = ('cuda' if torch.cuda.is_available() else 'cpu')"
   ]
  },
  {
   "cell_type": "code",
   "execution_count": 43,
   "metadata": {},
   "outputs": [],
   "source": [
    "# Generate masks for context and target snetences\n",
    "\n",
    "def generate_subsequent_mask(size):\n",
    "    mask = (torch.triu(torch.ones((size, size), device = DEVICE)) == 1).transpose(0, 1)\n",
    "    mask = mask.float().masked_fill(mask == 0, float('-inf')).masked_fill(mask == 1, float(0.0))\n",
    "    \n",
    "    return mask\n",
    "\n",
    "def generate_mask(context, target):\n",
    "    context_sequence_len = context.shape[1]\n",
    "    target_sequence_len  =  target.shape[1]\n",
    "    \n",
    "    target_mask = generate_subsequent_mask(target_sequence_len)\n",
    "    context_mask = torch.zeros((context_sequence_len, context_sequence_len), device = DEVICE).type(torch.bool)\n",
    "    \n",
    "    context_padding_mask = (context == PAD_INDEX)\n",
    "    target_padding_mask = (target == PAD_INDEX)\n",
    "    \n",
    "    return context_mask, target_mask, context_padding_mask, target_padding_mask"
   ]
  },
  {
   "cell_type": "code",
   "execution_count": 44,
   "metadata": {},
   "outputs": [],
   "source": [
    "class PositionalEncoding(nn.Module):\n",
    "    def __init__(self, d_model, dropout, max_len = 5000):\n",
    "        super(PositionalEncoding, self).__init__()\n",
    "        self.dropout = nn.Dropout(p = dropout)\n",
    "        \n",
    "        pe = torch.zeros(max_len, d_model)\n",
    "        position = torch.arange(0, max_len, dtype = torch.float).unsqueeze(1)\n",
    "        div_term = torch.exp(torch.arange(0, d_model, 2).float() * (-math.log(10000.0) / d_model))\n",
    "        pe[:, 0::2] = torch.sin(position * div_term)\n",
    "        pe[:, 1::2] = torch.cos(position * div_term)\n",
    "        pe = pe.unsqueeze(0)\n",
    "        self.register_buffer('pe', pe)\n",
    "        \n",
    "    def forward(self, x):\n",
    "        x = x + self.pe[:, :x.size(1)]\n",
    "        \n",
    "        return self.dropout(x)"
   ]
  },
  {
   "cell_type": "code",
   "execution_count": 45,
   "metadata": {},
   "outputs": [],
   "source": [
    "class TokenEmbedding(nn.Module):\n",
    "    def __init__(self, vocab_size: int, emb_size):\n",
    "        super(TokenEmbedding, self).__init__()\n",
    "        self.embedding = nn.Embedding(vocab_size, emb_size)\n",
    "        self.emb_size = emb_size\n",
    "        \n",
    "    def forward(self, tokens: Tensor):\n",
    "        return self.embedding(tokens.long()) * math.sqrt(self.emb_size)"
   ]
  },
  {
   "cell_type": "code",
   "execution_count": 46,
   "metadata": {},
   "outputs": [],
   "source": [
    "class Seq2SeqTransformer(nn.Module):\n",
    "    def __init__(self, \n",
    "                 num_encoding_layers: int,\n",
    "                 num_decoding_layers: int,\n",
    "                 emb_size: int,\n",
    "                 nhead: int,\n",
    "                 context_vocab_size: int,\n",
    "                 target_vocab_size: int,\n",
    "                 feed_forward_dim: int = 512,\n",
    "                 dropout: float = 0.1):\n",
    "        super(Seq2SeqTransformer, self).__init__()\n",
    "        self.transformer = Transformer(d_model = emb_size,\n",
    "                                       nhead = nhead,\n",
    "                                       num_encoder_layers = num_encoding_layers,\n",
    "                                       num_decoder_layers = num_decoding_layers,\n",
    "                                       dim_feedforward = feed_forward_dim,\n",
    "                                       dropout = dropout,\n",
    "                                       batch_first = True)\n",
    "        self.generator = nn.Linear(emb_size, target_vocab_size)\n",
    "        self.context_token_emb = TokenEmbedding(context_vocab_size, emb_size)\n",
    "        self.target_token_emb = TokenEmbedding(target_vocab_size, emb_size)\n",
    "        self.positional_encoding = PositionalEncoding(emb_size,\n",
    "                                                      dropout = dropout)\n",
    "        \n",
    "    def forward(self,\n",
    "                context: Tensor,\n",
    "                target: Tensor,\n",
    "                context_mask: Tensor,\n",
    "                target_mask: Tensor,\n",
    "                context_padding_mask: Tensor,\n",
    "                target_padding_mask: Tensor,\n",
    "                memory_key_padding_mask: Tensor):\n",
    "        context_emb = self.positional_encoding(self.context_token_emb(context))\n",
    "        target_emb  = self.positional_encoding(self.target_token_emb(target))\n",
    "        outs = self.transformer(context_emb,\n",
    "                                target_emb,\n",
    "                                context_mask,\n",
    "                                target_mask,\n",
    "                                None,\n",
    "                                context_padding_mask,\n",
    "                                target_padding_mask,\n",
    "                                memory_key_padding_mask)\n",
    "        \n",
    "        return self.generator(outs)\n",
    "    \n",
    "    def encode(self, context: Tensor, context_mask: Tensor):\n",
    "        return self.transformer.encoder(self.positional_encoding(self.context_token_emb(context)), context_mask)\n",
    "    \n",
    "    def decode(self, target: Tensor, memory: Tensor, target_mask: Tensor):\n",
    "        return self.transformer.decoder(self.positional_encoding(self.target_token_emb(target)), memory, target_mask)"
   ]
  },
  {
   "cell_type": "code",
   "execution_count": 47,
   "metadata": {},
   "outputs": [
    {
     "name": "stdout",
     "output_type": "stream",
     "text": [
      "13,961,528 parameters.\n",
      "13,961,528 trainable parameters.\n",
      "Seq2SeqTransformer(\n",
      "  (transformer): Transformer(\n",
      "    (encoder): TransformerEncoder(\n",
      "      (layers): ModuleList(\n",
      "        (0-2): 3 x TransformerEncoderLayer(\n",
      "          (self_attn): MultiheadAttention(\n",
      "            (out_proj): NonDynamicallyQuantizableLinear(in_features=192, out_features=192, bias=True)\n",
      "          )\n",
      "          (linear1): Linear(in_features=192, out_features=192, bias=True)\n",
      "          (dropout): Dropout(p=0.1, inplace=False)\n",
      "          (linear2): Linear(in_features=192, out_features=192, bias=True)\n",
      "          (norm1): LayerNorm((192,), eps=1e-05, elementwise_affine=True)\n",
      "          (norm2): LayerNorm((192,), eps=1e-05, elementwise_affine=True)\n",
      "          (dropout1): Dropout(p=0.1, inplace=False)\n",
      "          (dropout2): Dropout(p=0.1, inplace=False)\n",
      "        )\n",
      "      )\n",
      "      (norm): LayerNorm((192,), eps=1e-05, elementwise_affine=True)\n",
      "    )\n",
      "    (decoder): TransformerDecoder(\n",
      "      (layers): ModuleList(\n",
      "        (0-2): 3 x TransformerDecoderLayer(\n",
      "          (self_attn): MultiheadAttention(\n",
      "            (out_proj): NonDynamicallyQuantizableLinear(in_features=192, out_features=192, bias=True)\n",
      "          )\n",
      "          (multihead_attn): MultiheadAttention(\n",
      "            (out_proj): NonDynamicallyQuantizableLinear(in_features=192, out_features=192, bias=True)\n",
      "          )\n",
      "          (linear1): Linear(in_features=192, out_features=192, bias=True)\n",
      "          (dropout): Dropout(p=0.1, inplace=False)\n",
      "          (linear2): Linear(in_features=192, out_features=192, bias=True)\n",
      "          (norm1): LayerNorm((192,), eps=1e-05, elementwise_affine=True)\n",
      "          (norm2): LayerNorm((192,), eps=1e-05, elementwise_affine=True)\n",
      "          (norm3): LayerNorm((192,), eps=1e-05, elementwise_affine=True)\n",
      "          (dropout1): Dropout(p=0.1, inplace=False)\n",
      "          (dropout2): Dropout(p=0.1, inplace=False)\n",
      "          (dropout3): Dropout(p=0.1, inplace=False)\n",
      "        )\n",
      "      )\n",
      "      (norm): LayerNorm((192,), eps=1e-05, elementwise_affine=True)\n",
      "    )\n",
      "  )\n",
      "  (generator): Linear(in_features=192, out_features=24248, bias=True)\n",
      "  (context_token_emb): TokenEmbedding(\n",
      "    (embedding): Embedding(14796, 192)\n",
      "  )\n",
      "  (target_token_emb): TokenEmbedding(\n",
      "    (embedding): Embedding(24248, 192)\n",
      "  )\n",
      "  (positional_encoding): PositionalEncoding(\n",
      "    (dropout): Dropout(p=0.1, inplace=False)\n",
      "  )\n",
      ")\n"
     ]
    }
   ],
   "source": [
    "model = Seq2SeqTransformer(NUM_ENCODING_LAYERS,\n",
    "                           NUM_ENCODING_LAYERS,\n",
    "                           EMBEDDING_SIZE,\n",
    "                           NUM_MULTIHEAD,\n",
    "                           CONTEXT_VOCAB_SIZE,\n",
    "                           TARGET_VOCAB_SIZE,\n",
    "                           FEED_FWD_DIMENSION).to(DEVICE)\n",
    "\n",
    "total_params = sum(p.numel() for p in model.parameters())\n",
    "print(f\"{total_params:,} parameters.\")\n",
    "total_trainable_params = sum(\n",
    "    p.numel() for p in model.parameters() if p.requires_grad)\n",
    "print(f\"{total_trainable_params:,} trainable parameters.\")\n",
    "print(model)"
   ]
  },
  {
   "cell_type": "code",
   "execution_count": 48,
   "metadata": {},
   "outputs": [],
   "source": [
    "loss_fn = torch.nn.CrossEntropyLoss(ignore_index = PAD_INDEX)\n",
    "optimizer = torch.optim.Adam(model.parameters(), lr = 0.0001, betas = (0.9, 0.98), eps = 1e-9)"
   ]
  },
  {
   "cell_type": "code",
   "execution_count": 49,
   "metadata": {},
   "outputs": [],
   "source": [
    "train_dataloader = DataLoader(train_set, batch_size = BATCH_SIZE, collate_fn = collate_fn)\n",
    "def train_epoch(model, optimizer):\n",
    "    print(\"Training\")\n",
    "    model.train()\n",
    "    losses = 0\n",
    "    \n",
    "    for context, target in tqdm(train_dataloader, total = len(list(train_dataloader))):\n",
    "        context = context.to(DEVICE)\n",
    "        target = target.to(DEVICE)\n",
    "        \n",
    "        target_input = target[:, :-1]\n",
    "        \n",
    "        context_mask, target_mask, context_padding_mask, target_padding_mask = generate_mask(context, target_input)\n",
    "        \n",
    "        logits = model(context,\n",
    "                       target_input,\n",
    "                       context_mask,\n",
    "                       target_mask,\n",
    "                       context_padding_mask,\n",
    "                       target_padding_mask,\n",
    "                       context_padding_mask)\n",
    "        \n",
    "        optimizer.zero_grad()\n",
    "        \n",
    "        target_out = target[:, 1:]\n",
    "        loss = loss_fn(logits.view(-1, TARGET_VOCAB_SIZE), target_out.contiguous().view(-1))\n",
    "        loss.backward()\n",
    "        \n",
    "        optimizer.step()\n",
    "        losses += loss.item()\n",
    "        \n",
    "    return losses / len(list(train_dataloader))\n",
    "\n",
    "val_dataloader = DataLoader(validation_set, batch_size = BATCH_SIZE, collate_fn = collate_fn)\n",
    "def evaluate(model):\n",
    "    print(\"Validating\")\n",
    "    model.eval()\n",
    "    losses = 0\n",
    "    \n",
    "    for context, target in tqdm(val_dataloader, total = len(list(val_dataloader))):\n",
    "        context = context.to(DEVICE)\n",
    "        target = target.to(DEVICE)\n",
    "        \n",
    "        target_input = target[:, :-1]\n",
    "        \n",
    "        context_mask, target_mask, context_padding_mask, target_padding_mask = generate_mask(context, target_input)\n",
    "        \n",
    "        logits = model(context,\n",
    "                       target_input,\n",
    "                       context_mask,\n",
    "                       target_mask,\n",
    "                       context_padding_mask,\n",
    "                       target_padding_mask,\n",
    "                       context_padding_mask)\n",
    "        \n",
    "        target_out = target[:, 1:]\n",
    "        loss = loss_fn(logits.view(-1, TARGET_VOCAB_SIZE), target_out.contiguous().view(-1))\n",
    "        losses += loss.item()\n",
    "        \n",
    "    return losses / len(list(val_dataloader))"
   ]
  },
  {
   "cell_type": "code",
   "execution_count": 19,
   "metadata": {},
   "outputs": [
    {
     "name": "stdout",
     "output_type": "stream",
     "text": [
      "Training\n"
     ]
    },
    {
     "data": {
      "application/vnd.jupyter.widget-view+json": {
       "model_id": "658f3d2856a7483f930104abb11b66e9",
       "version_major": 2,
       "version_minor": 0
      },
      "text/plain": [
       "  0%|          | 0/732 [00:00<?, ?it/s]"
      ]
     },
     "metadata": {},
     "output_type": "display_data"
    },
    {
     "name": "stderr",
     "output_type": "stream",
     "text": [
      "c:\\Users\\dell\\miniconda3\\envs\\tf_cpu\\Lib\\site-packages\\torch\\nn\\functional.py:5076: UserWarning: Support for mismatched key_padding_mask and attn_mask is deprecated. Use same type for both instead.\n",
      "  warnings.warn(\n"
     ]
    },
    {
     "name": "stdout",
     "output_type": "stream",
     "text": [
      "Validating\n"
     ]
    },
    {
     "data": {
      "application/vnd.jupyter.widget-view+json": {
       "model_id": "54def146007b4083bf5a8579676145be",
       "version_major": 2,
       "version_minor": 0
      },
      "text/plain": [
       "  0%|          | 0/183 [00:00<?, ?it/s]"
      ]
     },
     "metadata": {},
     "output_type": "display_data"
    },
    {
     "name": "stdout",
     "output_type": "stream",
     "text": [
      "Epoch: 1, Train loss: 5.499, Val loss: 4.246, Epoch time = 4722.172s\n",
      "\n",
      "Training\n"
     ]
    },
    {
     "data": {
      "application/vnd.jupyter.widget-view+json": {
       "model_id": "54d237732a124d5d8449f5e593896e29",
       "version_major": 2,
       "version_minor": 0
      },
      "text/plain": [
       "  0%|          | 0/732 [00:00<?, ?it/s]"
      ]
     },
     "metadata": {},
     "output_type": "display_data"
    },
    {
     "name": "stdout",
     "output_type": "stream",
     "text": [
      "Validating\n"
     ]
    },
    {
     "data": {
      "application/vnd.jupyter.widget-view+json": {
       "model_id": "e5c3f694e21f49f0a4ad722a91e9f18c",
       "version_major": 2,
       "version_minor": 0
      },
      "text/plain": [
       "  0%|          | 0/183 [00:00<?, ?it/s]"
      ]
     },
     "metadata": {},
     "output_type": "display_data"
    },
    {
     "name": "stdout",
     "output_type": "stream",
     "text": [
      "Epoch: 2, Train loss: 4.033, Val loss: 3.626, Epoch time = 5125.410s\n",
      "\n",
      "Training\n"
     ]
    },
    {
     "data": {
      "application/vnd.jupyter.widget-view+json": {
       "model_id": "b94bf6504980405e880cb71beb663124",
       "version_major": 2,
       "version_minor": 0
      },
      "text/plain": [
       "  0%|          | 0/732 [00:00<?, ?it/s]"
      ]
     },
     "metadata": {},
     "output_type": "display_data"
    },
    {
     "name": "stdout",
     "output_type": "stream",
     "text": [
      "Validating\n"
     ]
    },
    {
     "data": {
      "application/vnd.jupyter.widget-view+json": {
       "model_id": "8072590d0a7c42b6953bb3db880252c5",
       "version_major": 2,
       "version_minor": 0
      },
      "text/plain": [
       "  0%|          | 0/183 [00:00<?, ?it/s]"
      ]
     },
     "metadata": {},
     "output_type": "display_data"
    },
    {
     "name": "stdout",
     "output_type": "stream",
     "text": [
      "Epoch: 3, Train loss: 3.566, Val loss: 3.275, Epoch time = 4442.342s\n",
      "\n",
      "Training\n"
     ]
    },
    {
     "data": {
      "application/vnd.jupyter.widget-view+json": {
       "model_id": "0c924d429e734c47a061d472ab8048f4",
       "version_major": 2,
       "version_minor": 0
      },
      "text/plain": [
       "  0%|          | 0/732 [00:00<?, ?it/s]"
      ]
     },
     "metadata": {},
     "output_type": "display_data"
    },
    {
     "name": "stdout",
     "output_type": "stream",
     "text": [
      "Validating\n"
     ]
    },
    {
     "data": {
      "application/vnd.jupyter.widget-view+json": {
       "model_id": "a90351c4b3cf4da6be7d7ca78854d675",
       "version_major": 2,
       "version_minor": 0
      },
      "text/plain": [
       "  0%|          | 0/183 [00:00<?, ?it/s]"
      ]
     },
     "metadata": {},
     "output_type": "display_data"
    },
    {
     "name": "stdout",
     "output_type": "stream",
     "text": [
      "Epoch: 4, Train loss: 3.270, Val loss: 3.028, Epoch time = 3914.915s\n",
      "\n",
      "Training\n"
     ]
    },
    {
     "data": {
      "application/vnd.jupyter.widget-view+json": {
       "model_id": "17d14fe80ce94716876219bdd0b00a0c",
       "version_major": 2,
       "version_minor": 0
      },
      "text/plain": [
       "  0%|          | 0/732 [00:00<?, ?it/s]"
      ]
     },
     "metadata": {},
     "output_type": "display_data"
    },
    {
     "name": "stdout",
     "output_type": "stream",
     "text": [
      "Validating\n"
     ]
    },
    {
     "data": {
      "application/vnd.jupyter.widget-view+json": {
       "model_id": "66f8723069e349e2bfdae1e8ebc1080e",
       "version_major": 2,
       "version_minor": 0
      },
      "text/plain": [
       "  0%|          | 0/183 [00:00<?, ?it/s]"
      ]
     },
     "metadata": {},
     "output_type": "display_data"
    },
    {
     "name": "stdout",
     "output_type": "stream",
     "text": [
      "Epoch: 5, Train loss: 3.054, Val loss: 2.841, Epoch time = 4487.301s\n",
      "\n",
      "Training\n"
     ]
    },
    {
     "data": {
      "application/vnd.jupyter.widget-view+json": {
       "model_id": "f46eb99786624b9a956a0494634a5bac",
       "version_major": 2,
       "version_minor": 0
      },
      "text/plain": [
       "  0%|          | 0/732 [00:00<?, ?it/s]"
      ]
     },
     "metadata": {},
     "output_type": "display_data"
    },
    {
     "name": "stdout",
     "output_type": "stream",
     "text": [
      "Validating\n"
     ]
    },
    {
     "data": {
      "application/vnd.jupyter.widget-view+json": {
       "model_id": "726fb15d23294a86939352a9d70bb8d7",
       "version_major": 2,
       "version_minor": 0
      },
      "text/plain": [
       "  0%|          | 0/183 [00:00<?, ?it/s]"
      ]
     },
     "metadata": {},
     "output_type": "display_data"
    },
    {
     "name": "stdout",
     "output_type": "stream",
     "text": [
      "Epoch: 6, Train loss: 2.880, Val loss: 2.677, Epoch time = 4573.078s\n",
      "\n",
      "Training\n"
     ]
    },
    {
     "data": {
      "application/vnd.jupyter.widget-view+json": {
       "model_id": "20866792f9b5417fb1da46f97128f782",
       "version_major": 2,
       "version_minor": 0
      },
      "text/plain": [
       "  0%|          | 0/732 [00:00<?, ?it/s]"
      ]
     },
     "metadata": {},
     "output_type": "display_data"
    },
    {
     "name": "stdout",
     "output_type": "stream",
     "text": [
      "Validating\n"
     ]
    },
    {
     "data": {
      "application/vnd.jupyter.widget-view+json": {
       "model_id": "787c81eb22bb457c94d4fb8f70270b2b",
       "version_major": 2,
       "version_minor": 0
      },
      "text/plain": [
       "  0%|          | 0/183 [00:00<?, ?it/s]"
      ]
     },
     "metadata": {},
     "output_type": "display_data"
    },
    {
     "name": "stdout",
     "output_type": "stream",
     "text": [
      "Epoch: 7, Train loss: 2.730, Val loss: 2.538, Epoch time = 3908.004s\n",
      "\n",
      "Training\n"
     ]
    },
    {
     "data": {
      "application/vnd.jupyter.widget-view+json": {
       "model_id": "88230ab44b2c4381a5bef8dffe8de1e4",
       "version_major": 2,
       "version_minor": 0
      },
      "text/plain": [
       "  0%|          | 0/732 [00:00<?, ?it/s]"
      ]
     },
     "metadata": {},
     "output_type": "display_data"
    },
    {
     "name": "stdout",
     "output_type": "stream",
     "text": [
      "Validating\n"
     ]
    },
    {
     "data": {
      "application/vnd.jupyter.widget-view+json": {
       "model_id": "fe44746371304d79b9a27590c0847cd2",
       "version_major": 2,
       "version_minor": 0
      },
      "text/plain": [
       "  0%|          | 0/183 [00:00<?, ?it/s]"
      ]
     },
     "metadata": {},
     "output_type": "display_data"
    },
    {
     "name": "stdout",
     "output_type": "stream",
     "text": [
      "Epoch: 8, Train loss: 2.599, Val loss: 2.419, Epoch time = 3912.613s\n",
      "\n",
      "Training\n"
     ]
    },
    {
     "data": {
      "application/vnd.jupyter.widget-view+json": {
       "model_id": "d563d27ec811456e9d0f052843e8ee73",
       "version_major": 2,
       "version_minor": 0
      },
      "text/plain": [
       "  0%|          | 0/732 [00:00<?, ?it/s]"
      ]
     },
     "metadata": {},
     "output_type": "display_data"
    },
    {
     "name": "stdout",
     "output_type": "stream",
     "text": [
      "Validating\n"
     ]
    },
    {
     "data": {
      "application/vnd.jupyter.widget-view+json": {
       "model_id": "6950f9d2f97a40e7a9e9688b08071f1f",
       "version_major": 2,
       "version_minor": 0
      },
      "text/plain": [
       "  0%|          | 0/183 [00:00<?, ?it/s]"
      ]
     },
     "metadata": {},
     "output_type": "display_data"
    },
    {
     "name": "stdout",
     "output_type": "stream",
     "text": [
      "Epoch: 9, Train loss: 2.483, Val loss: 2.316, Epoch time = 5250.067s\n",
      "\n",
      "Training\n"
     ]
    },
    {
     "data": {
      "application/vnd.jupyter.widget-view+json": {
       "model_id": "7ef6b9634f04450e91860efe41bb469d",
       "version_major": 2,
       "version_minor": 0
      },
      "text/plain": [
       "  0%|          | 0/732 [00:00<?, ?it/s]"
      ]
     },
     "metadata": {},
     "output_type": "display_data"
    },
    {
     "name": "stdout",
     "output_type": "stream",
     "text": [
      "Validating\n"
     ]
    },
    {
     "data": {
      "application/vnd.jupyter.widget-view+json": {
       "model_id": "3d42491e8f914caca6176fbd70431efd",
       "version_major": 2,
       "version_minor": 0
      },
      "text/plain": [
       "  0%|          | 0/183 [00:00<?, ?it/s]"
      ]
     },
     "metadata": {},
     "output_type": "display_data"
    },
    {
     "name": "stdout",
     "output_type": "stream",
     "text": [
      "Epoch: 10, Train loss: 2.382, Val loss: 2.225, Epoch time = 3946.458s\n",
      "\n",
      "Training\n"
     ]
    },
    {
     "data": {
      "application/vnd.jupyter.widget-view+json": {
       "model_id": "92965943decf4d42b1e9361495544b6c",
       "version_major": 2,
       "version_minor": 0
      },
      "text/plain": [
       "  0%|          | 0/732 [00:00<?, ?it/s]"
      ]
     },
     "metadata": {},
     "output_type": "display_data"
    },
    {
     "name": "stdout",
     "output_type": "stream",
     "text": [
      "Validating\n"
     ]
    },
    {
     "data": {
      "application/vnd.jupyter.widget-view+json": {
       "model_id": "79f61014863b451b85f3de3a10b33ba0",
       "version_major": 2,
       "version_minor": 0
      },
      "text/plain": [
       "  0%|          | 0/183 [00:00<?, ?it/s]"
      ]
     },
     "metadata": {},
     "output_type": "display_data"
    },
    {
     "name": "stdout",
     "output_type": "stream",
     "text": [
      "Epoch: 11, Train loss: 2.290, Val loss: 2.144, Epoch time = 4065.798s\n",
      "\n",
      "Training\n"
     ]
    },
    {
     "data": {
      "application/vnd.jupyter.widget-view+json": {
       "model_id": "9c9e904b76204d2b8fad8f9eae0628f4",
       "version_major": 2,
       "version_minor": 0
      },
      "text/plain": [
       "  0%|          | 0/732 [00:00<?, ?it/s]"
      ]
     },
     "metadata": {},
     "output_type": "display_data"
    },
    {
     "name": "stdout",
     "output_type": "stream",
     "text": [
      "Validating\n"
     ]
    },
    {
     "data": {
      "application/vnd.jupyter.widget-view+json": {
       "model_id": "e1127ff192ed42f297a2f0bcc82e885b",
       "version_major": 2,
       "version_minor": 0
      },
      "text/plain": [
       "  0%|          | 0/183 [00:00<?, ?it/s]"
      ]
     },
     "metadata": {},
     "output_type": "display_data"
    },
    {
     "name": "stdout",
     "output_type": "stream",
     "text": [
      "Epoch: 12, Train loss: 2.207, Val loss: 2.074, Epoch time = 3940.878s\n",
      "\n",
      "Training\n"
     ]
    },
    {
     "data": {
      "application/vnd.jupyter.widget-view+json": {
       "model_id": "6872a983d81143df928345e6045e7ea6",
       "version_major": 2,
       "version_minor": 0
      },
      "text/plain": [
       "  0%|          | 0/732 [00:00<?, ?it/s]"
      ]
     },
     "metadata": {},
     "output_type": "display_data"
    },
    {
     "name": "stdout",
     "output_type": "stream",
     "text": [
      "Validating\n"
     ]
    },
    {
     "data": {
      "application/vnd.jupyter.widget-view+json": {
       "model_id": "dd58af582af74256993ab4090f4c8e91",
       "version_major": 2,
       "version_minor": 0
      },
      "text/plain": [
       "  0%|          | 0/183 [00:00<?, ?it/s]"
      ]
     },
     "metadata": {},
     "output_type": "display_data"
    },
    {
     "name": "stdout",
     "output_type": "stream",
     "text": [
      "Epoch: 13, Train loss: 2.136, Val loss: 2.011, Epoch time = 3911.640s\n",
      "\n",
      "Training\n"
     ]
    },
    {
     "data": {
      "application/vnd.jupyter.widget-view+json": {
       "model_id": "e535a5259c93440d96f5024fa4b871b5",
       "version_major": 2,
       "version_minor": 0
      },
      "text/plain": [
       "  0%|          | 0/732 [00:00<?, ?it/s]"
      ]
     },
     "metadata": {},
     "output_type": "display_data"
    },
    {
     "name": "stdout",
     "output_type": "stream",
     "text": [
      "Validating\n"
     ]
    },
    {
     "data": {
      "application/vnd.jupyter.widget-view+json": {
       "model_id": "b86bb6e5c7e04de398bc72e11b262aa0",
       "version_major": 2,
       "version_minor": 0
      },
      "text/plain": [
       "  0%|          | 0/183 [00:00<?, ?it/s]"
      ]
     },
     "metadata": {},
     "output_type": "display_data"
    },
    {
     "name": "stdout",
     "output_type": "stream",
     "text": [
      "Epoch: 14, Train loss: 2.069, Val loss: 1.955, Epoch time = 3936.840s\n",
      "\n",
      "Training\n"
     ]
    },
    {
     "data": {
      "application/vnd.jupyter.widget-view+json": {
       "model_id": "fa7d679355c34f10b9f7c87a4023a3f6",
       "version_major": 2,
       "version_minor": 0
      },
      "text/plain": [
       "  0%|          | 0/732 [00:00<?, ?it/s]"
      ]
     },
     "metadata": {},
     "output_type": "display_data"
    },
    {
     "name": "stdout",
     "output_type": "stream",
     "text": [
      "Validating\n"
     ]
    },
    {
     "data": {
      "application/vnd.jupyter.widget-view+json": {
       "model_id": "1db85930df8748958bbcc1f66dc60c52",
       "version_major": 2,
       "version_minor": 0
      },
      "text/plain": [
       "  0%|          | 0/183 [00:00<?, ?it/s]"
      ]
     },
     "metadata": {},
     "output_type": "display_data"
    },
    {
     "name": "stdout",
     "output_type": "stream",
     "text": [
      "Epoch: 15, Train loss: 2.009, Val loss: 1.909, Epoch time = 3864.362s\n",
      "\n",
      "Training\n"
     ]
    },
    {
     "data": {
      "application/vnd.jupyter.widget-view+json": {
       "model_id": "7ad3a54083674345b53f82995b7cdbce",
       "version_major": 2,
       "version_minor": 0
      },
      "text/plain": [
       "  0%|          | 0/732 [00:00<?, ?it/s]"
      ]
     },
     "metadata": {},
     "output_type": "display_data"
    },
    {
     "name": "stdout",
     "output_type": "stream",
     "text": [
      "Validating\n"
     ]
    },
    {
     "data": {
      "application/vnd.jupyter.widget-view+json": {
       "model_id": "e0d53433aa7d4ac2bc8eaddb353b5cc0",
       "version_major": 2,
       "version_minor": 0
      },
      "text/plain": [
       "  0%|          | 0/183 [00:00<?, ?it/s]"
      ]
     },
     "metadata": {},
     "output_type": "display_data"
    },
    {
     "name": "stdout",
     "output_type": "stream",
     "text": [
      "Epoch: 16, Train loss: 1.953, Val loss: 1.864, Epoch time = 3856.012s\n",
      "\n",
      "Training\n"
     ]
    },
    {
     "data": {
      "application/vnd.jupyter.widget-view+json": {
       "model_id": "c568cc3c72154ccdb9ca600691e7185e",
       "version_major": 2,
       "version_minor": 0
      },
      "text/plain": [
       "  0%|          | 0/732 [00:00<?, ?it/s]"
      ]
     },
     "metadata": {},
     "output_type": "display_data"
    },
    {
     "name": "stdout",
     "output_type": "stream",
     "text": [
      "Validating\n"
     ]
    },
    {
     "data": {
      "application/vnd.jupyter.widget-view+json": {
       "model_id": "d8718263c8134d348e3a9b19b6340c61",
       "version_major": 2,
       "version_minor": 0
      },
      "text/plain": [
       "  0%|          | 0/183 [00:00<?, ?it/s]"
      ]
     },
     "metadata": {},
     "output_type": "display_data"
    },
    {
     "name": "stdout",
     "output_type": "stream",
     "text": [
      "Epoch: 17, Train loss: 1.902, Val loss: 1.824, Epoch time = 3914.101s\n",
      "\n",
      "Training\n"
     ]
    },
    {
     "data": {
      "application/vnd.jupyter.widget-view+json": {
       "model_id": "c33435bac2db4daa8c8985e8719a244d",
       "version_major": 2,
       "version_minor": 0
      },
      "text/plain": [
       "  0%|          | 0/732 [00:00<?, ?it/s]"
      ]
     },
     "metadata": {},
     "output_type": "display_data"
    },
    {
     "name": "stdout",
     "output_type": "stream",
     "text": [
      "Validating\n"
     ]
    },
    {
     "data": {
      "application/vnd.jupyter.widget-view+json": {
       "model_id": "9348a8f488bf4c2385c33492869621fd",
       "version_major": 2,
       "version_minor": 0
      },
      "text/plain": [
       "  0%|          | 0/183 [00:00<?, ?it/s]"
      ]
     },
     "metadata": {},
     "output_type": "display_data"
    },
    {
     "name": "stdout",
     "output_type": "stream",
     "text": [
      "Epoch: 18, Train loss: 1.856, Val loss: 1.786, Epoch time = 3937.932s\n",
      "\n",
      "Training\n"
     ]
    },
    {
     "data": {
      "application/vnd.jupyter.widget-view+json": {
       "model_id": "045574f001de4a16a7a245a022ea21fa",
       "version_major": 2,
       "version_minor": 0
      },
      "text/plain": [
       "  0%|          | 0/732 [00:00<?, ?it/s]"
      ]
     },
     "metadata": {},
     "output_type": "display_data"
    },
    {
     "name": "stdout",
     "output_type": "stream",
     "text": [
      "Validating\n"
     ]
    },
    {
     "data": {
      "application/vnd.jupyter.widget-view+json": {
       "model_id": "701f29b08d3e4c13b139c8fda80406a3",
       "version_major": 2,
       "version_minor": 0
      },
      "text/plain": [
       "  0%|          | 0/183 [00:00<?, ?it/s]"
      ]
     },
     "metadata": {},
     "output_type": "display_data"
    },
    {
     "name": "stdout",
     "output_type": "stream",
     "text": [
      "Epoch: 19, Train loss: 1.811, Val loss: 1.755, Epoch time = 3863.078s\n",
      "\n",
      "Training\n"
     ]
    },
    {
     "data": {
      "application/vnd.jupyter.widget-view+json": {
       "model_id": "3ef6be2d2e6e46798420653fad2b03d9",
       "version_major": 2,
       "version_minor": 0
      },
      "text/plain": [
       "  0%|          | 0/732 [00:00<?, ?it/s]"
      ]
     },
     "metadata": {},
     "output_type": "display_data"
    },
    {
     "name": "stdout",
     "output_type": "stream",
     "text": [
      "Validating\n"
     ]
    },
    {
     "data": {
      "application/vnd.jupyter.widget-view+json": {
       "model_id": "ef2ca63e0c9844e4922f8229eb9657ff",
       "version_major": 2,
       "version_minor": 0
      },
      "text/plain": [
       "  0%|          | 0/183 [00:00<?, ?it/s]"
      ]
     },
     "metadata": {},
     "output_type": "display_data"
    },
    {
     "name": "stdout",
     "output_type": "stream",
     "text": [
      "Epoch: 20, Train loss: 1.773, Val loss: 1.724, Epoch time = 4048.614s\n",
      "\n"
     ]
    }
   ],
   "source": [
    "train_loss_list, validation_loss_list = [], []\n",
    "for epoch in range(1, EPOCHS + 1):\n",
    "    start_time = timer()\n",
    "    train_loss = train_epoch(model, optimizer)\n",
    "    validation_loss = evaluate(model)\n",
    "    end_time = timer()\n",
    "    train_loss_list.append(train_loss)\n",
    "    validation_loss_list.append(validation_loss)\n",
    "    #print((f\"Epoch: {epoch}, Train loss: {train_loss:.3f}, Val loss: {validation_loss:.3f}, \"f\"Epoch time = {(end_time - start_time):.3f}s\\n\"))\n",
    "    print(f\"Training loss: {train_loss:.3f}\")\n",
    "    print(f\"Validation loss: {validation_loss:.3f}\")\n",
    "    print(f\"Epoch time = {(end_time - start_time):.3f}s\\n\")\n",
    "    print(\"~ \" * 100)"
   ]
  },
  {
   "cell_type": "code",
   "execution_count": 20,
   "metadata": {},
   "outputs": [],
   "source": [
    "def save_plots(train_loss, validation_loss):\n",
    "    plt.figure(figsize = (10, 8))\n",
    "    plt.plot(train_loss, label = 'Train loss')\n",
    "    plt.plot(validation_loss, label = 'Validation loss')\n",
    "    plt.xlabel('Epochs')\n",
    "    plt.ylabel('Loss')\n",
    "    plt.legend()\n",
    "    plt.savefig(os.path.join(\"../outputs\", \"loss.png\"))\n",
    "    plt.show()"
   ]
  },
  {
   "cell_type": "code",
   "execution_count": 21,
   "metadata": {},
   "outputs": [
    {
     "data": {
      "image/png": "[encoded data removed]",
      "text/plain": [
       "<Figure size 1000x800 with 1 Axes>"
      ]
     },
     "metadata": {},
     "output_type": "display_data"
    }
   ],
   "source": [
    "save_plots(train_loss_list, validation_loss_list)"
   ]
  },
  {
   "cell_type": "code",
   "execution_count": 22,
   "metadata": {},
   "outputs": [],
   "source": [
    "torch.save(model, \"../outputs/model.pth\")"
   ]
  },
  {
   "cell_type": "code",
   "execution_count": 50,
   "metadata": {},
   "outputs": [],
   "source": [
    "model = torch.load('../outputs/model.pth')"
   ]
  },
  {
   "cell_type": "code",
   "execution_count": 51,
   "metadata": {},
   "outputs": [],
   "source": [
    "\n",
    "def greedy_decode(model, context, context_mask, max_len, start_symbol):\n",
    "    context = context.to(DEVICE)\n",
    "    context_mask = context_mask.to(DEVICE)\n",
    "    memory = model.encode(context, context_mask)\n",
    "    y_pred = torch.ones(1, 1).fill_(start_symbol).type(torch.long).to(DEVICE)\n",
    "    for i in range(max_len - 1):\n",
    "        memory = memory.to(DEVICE)\n",
    "        if i == 0:\n",
    "            y_pred = y_pred.transpose(1, 0)\n",
    "        target_mask = (generate_subsequent_mask(y_pred.size(1))\n",
    "                       .type(torch.bool)).to(DEVICE)\n",
    "        out = model.decode(y_pred, memory, target_mask)\n",
    "        out = out\n",
    "        prob = model.generator(out[:, -1])\n",
    "        _, next_word = torch.max(prob, dim = 1)\n",
    "        next_word = next_word.item()\n",
    "        y_pred = torch.cat([y_pred, torch.ones(1, 1).type_as(context.data).fill_(next_word)], dim = 1)\n",
    "        if next_word == END_INDEX:\n",
    "            break\n",
    "        \n",
    "    return y_pred\n",
    "\n",
    "def translate(model: torch.nn.Module, context_sentence: str):\n",
    "    model.eval()\n",
    "    context = text_transform[CONTEXT_LANGUAGE](context_sentence).view(1, -1)\n",
    "    num_tokens = context.shape[1]\n",
    "    context_mask = (torch.zeros(num_tokens, num_tokens)).type(torch.bool)\n",
    "    target_tokens = greedy_decode(model,\n",
    "                                  context,\n",
    "                                  context_mask,\n",
    "                                  max_len = num_tokens + 5, \n",
    "                                  start_symbol = START_INDEX).flatten()\n",
    "\n",
    "    return \" \".join(vocab_transform[TARGET_LANGUAGE].lookup_tokens(list(target_tokens.cpu().numpy()))).replace(\"<bos>\", \"\").replace(\"<eos>\", \"\")"
   ]
  },
  {
   "cell_type": "code",
   "execution_count": 59,
   "metadata": {},
   "outputs": [
    {
     "name": "stdout",
     "output_type": "stream",
     "text": [
      "Context: It's bright outside today!\n",
      "Actual: Il est brillant a l'exterieur aujourd'hui!\n",
      "Predicted:  C' est désormais aujourd'hui   ! \n",
      "\n",
      "Context: Don't forget to dehydrate.\n",
      "Actual: N'oubliez pas de deshydrater\n",
      "Predicted:  N' oublie pas de oublier . \n",
      "\n",
      "Context: I'll see you again tomorrow.\n",
      "Actual: Je te reverrai demain\n",
      "Predicted:  Je te verrai demain . \n",
      "\n",
      "Context: What time is it?\n",
      "Actual: Quelle heure est-il?\n",
      "Predicted:  À quelle heure est -il ? \n",
      "\n",
      "Context: This translation model is not bad.\n",
      "Actual: Ce modele de traduction n'est pas mauvais\n",
      "Predicted:  Ce n' est pas mauvais . \n",
      "\n",
      "Context: Happy holidays to all who celebrate.\n",
      "Actual: Bonnes acances a tous ceux quix celebrent\n",
      "Predicted:  Les gens qui sont tous à l' intérieur . \n",
      "\n"
     ]
    }
   ],
   "source": [
    "sample_sentences = [\n",
    "    [\"It's bright outside today!\", \"Il est brillant a l'exterieur aujourd'hui!\"],\n",
    "    [\"Don't forget to dehydrate.\", \"N'oubliez pas de deshydrater\"],\n",
    "    [\"I'll see you again tomorrow.\", \"Je te reverrai demain\"],\n",
    "    [\"What time is it?\", \"Quelle heure est-il?\"],\n",
    "    [\"This translation model is not bad.\", \"Ce modele de traduction n'est pas mauvais\"],\n",
    "    [\"Happy holidays to all who celebrate.\", \"Bonnes acances a tous ceux quix celebrent\"]\n",
    "]\n",
    "for sentence in sample_sentences:\n",
    "    print(f\"Context: {sentence[0]}\")\n",
    "    print(f\"Actual: {sentence[1]}\")\n",
    "    print(f\"Predicted: {translate(model, sentence[0])}\\n\")"
   ]
  },
  {
   "cell_type": "code",
   "execution_count": null,
   "metadata": {},
   "outputs": [],
   "source": []
  },
  {
   "cell_type": "code",
   "execution_count": null,
   "metadata": {},
   "outputs": [],
   "source": []
  },
  {
   "cell_type": "code",
   "execution_count": null,
   "metadata": {},
   "outputs": [],
   "source": []
  }
 ],
 "metadata": {
  "kernelspec": {
   "display_name": "Python 3",
   "language": "python",
   "name": "python3"
  },
  "language_info": {
   "codemirror_mode": {
    "name": "ipython",
    "version": 3
   },
   "file_extension": ".py",
   "mimetype": "text/x-python",
   "name": "python",
   "nbconvert_exporter": "python",
   "pygments_lexer": "ipython3",
   "version": "3.11.5"
  },
  "orig_nbformat": 4
 },
 "nbformat": 4,
 "nbformat_minor": 2
}
